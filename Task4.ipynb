{
 "cells": [
  {
   "cell_type": "code",
   "execution_count": 4,
   "id": "3d844be5",
   "metadata": {},
   "outputs": [],
   "source": [
    "import pandas as pd\n",
    "import numpy as np\n",
    "from sklearn.metrics.pairwise import cosine_similarity\n",
    "\n"
   ]
  },
  {
   "cell_type": "code",
   "execution_count": 6,
   "id": "eeb6de66",
   "metadata": {},
   "outputs": [],
   "source": [
    "# ---------- 1. LOAD DATA (paths already fixed & encoding handled) ----------\n",
    "ratings = pd.read_csv(\n",
    "    r\"C:\\Users\\Harisiddarth\\Downloads\\ml-1m\\ratings.dat\",\n",
    "    sep=\"::\", engine=\"python\",\n",
    "    names=[\"userId\", \"movieId\", \"rating\", \"timestamp\"]\n",
    ")\n",
    "\n"
   ]
  },
  {
   "cell_type": "code",
   "execution_count": 7,
   "id": "83a617fe",
   "metadata": {},
   "outputs": [],
   "source": [
    "movies = pd.read_csv(\n",
    "    r\"C:\\Users\\Harisiddarth\\Downloads\\ml-1m\\movies.dat\",\n",
    "    sep=\"::\", engine=\"python\", encoding=\"latin-1\",\n",
    "    names=[\"movieId\", \"title\", \"genres\"]\n",
    ")\n"
   ]
  },
  {
   "cell_type": "code",
   "execution_count": 8,
   "id": "2bba01b6",
   "metadata": {},
   "outputs": [],
   "source": [
    "# ---------- 2. BUILD MATRICES ----------\n",
    "ui = ratings.pivot_table(index=\"userId\", columns=\"movieId\", values=\"rating\")\n",
    "# keep NaN (missing) for predictions; only fill zeros to compute similarity\n",
    "ui_filled = ui.fillna(0)\n",
    "\n",
    "similarity = cosine_similarity(ui_filled)\n",
    "sim_df = pd.DataFrame(similarity, index=ui.index, columns=ui.index)\n",
    "\n"
   ]
  },
  {
   "cell_type": "code",
   "execution_count": 9,
   "id": "017cd77f",
   "metadata": {},
   "outputs": [],
   "source": [
    "# ---------- 3. RECOMMENDATION FUNCTION ----------\n",
    "def recommend_for(user_id: int, k: int = 30, n_rec: int = 5):\n",
    "    if user_id not in ui.index:\n",
    "        print(f\"User {user_id} not found!\");  return\n",
    "    print(f\"\\n🎯 Top {n_rec} Recommendations for User {user_id}:\\n\")\n",
    "\n",
    "    # movies the user hasn’t rated\n",
    "    unrated = ui.loc[user_id][ui.loc[user_id].isna()].index\n",
    "    if len(unrated) == 0:\n",
    "        print(\"User has rated every movie!\"); return\n",
    "\n",
    "    # take k most‑similar users with positive similarity\n",
    "    sims = sim_df.loc[user_id].drop(user_id)\n",
    "    top_neighbors = sims[sims > 0].nlargest(k)\n",
    "\n",
    "    preds = {}\n",
    "    for m in unrated:\n",
    "        # ratings from neighbours who rated this movie\n",
    "        neigh_ratings = ui.loc[top_neighbors.index, m].dropna()\n",
    "        if neigh_ratings.empty:          # nobody rated → skip / fallback\n",
    "            continue\n",
    "        weights = top_neighbors.loc[neigh_ratings.index]\n",
    "        if weights.sum() == 0:           # all similarities zero?\n",
    "            continue\n",
    "        preds[m] = np.dot(weights, neigh_ratings) / weights.sum()\n",
    "\n",
    "    if not preds:\n",
    "        print(\"Couldn’t generate predictions (try another user or larger k).\")\n",
    "        return\n",
    "\n",
    "    # top N\n",
    "    top = sorted(preds.items(), key=lambda x: x[1], reverse=True)[:n_rec]\n",
    "    for mid, score in top:\n",
    "        title = movies.loc[movies.movieId == mid, 'title'].values[0]\n",
    "        print(f\"{title}  (Pred ≈ {score:.2f})\")\n",
    "\n"
   ]
  },
  {
   "cell_type": "code",
   "execution_count": 11,
   "id": "233ba8a8",
   "metadata": {},
   "outputs": [
    {
     "name": "stdout",
     "output_type": "stream",
     "text": [
      "\n",
      "🎯 Top 5 Recommendations for User 1:\n",
      "\n",
      "Little Women (1994)  (Pred ≈ 5.00)\n",
      "Cat Ballou (1965)  (Pred ≈ 5.00)\n",
      "Copycat (1995)  (Pred ≈ 5.00)\n",
      "Dumb & Dumber (1994)  (Pred ≈ 5.00)\n",
      "Rudy (1993)  (Pred ≈ 5.00)\n"
     ]
    }
   ],
   "source": [
    "# ---------- 4. RUN ----------\n",
    "recommend_for(user_id=1,k=30,n_rec=5)"
   ]
  },
  {
   "cell_type": "code",
   "execution_count": null,
   "id": "d1da38be",
   "metadata": {},
   "outputs": [],
   "source": []
  }
 ],
 "metadata": {
  "kernelspec": {
   "display_name": "Python 3",
   "language": "python",
   "name": "python3"
  },
  "language_info": {
   "codemirror_mode": {
    "name": "ipython",
    "version": 3
   },
   "file_extension": ".py",
   "mimetype": "text/x-python",
   "name": "python",
   "nbconvert_exporter": "python",
   "pygments_lexer": "ipython3",
   "version": "3.11.8"
  }
 },
 "nbformat": 4,
 "nbformat_minor": 5
}
